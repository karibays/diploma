{
 "cells": [
  {
   "cell_type": "code",
   "execution_count": 1,
   "id": "62938cae",
   "metadata": {},
   "outputs": [],
   "source": [
    "import tensorflow as tf\n",
    "from tensorflow.keras.layers import Dense, BatchNormalization, Dropout, Activation, Flatten\n",
    "from tensorflow.keras.callbacks import LearningRateScheduler\n",
    "from tensorflow.keras import Sequential\n",
    "from sklearn.model_selection import train_test_split\n",
    "from tensorflow.keras.activations import linear, relu\n",
    "from tensorflow.keras.losses import MeanSquaredError, MeanAbsoluteError\n",
    "from tensorflow.keras.optimizers import Adam\n",
    "import matplotlib.pyplot as plt\n",
    "from tensorflow.keras.utils import plot_model\n",
    "import os\n",
    "import random\n",
    "import numpy as np\n",
    "import pandas as pd\n",
    "import seaborn as sns\n",
    "from sklearn.preprocessing import StandardScaler, MinMaxScaler\n",
    "\n",
    "%matplotlib inline"
   ]
  },
  {
   "cell_type": "code",
   "execution_count": 16,
   "id": "483ea9b4",
   "metadata": {},
   "outputs": [],
   "source": [
    "df = pd.read_excel('dataset/cleaned_data/cleaned_building_v2.xlsx')\n",
    "\n",
    "df = df.drop(df.sort_values(by='price', ascending=True).head(200).index.values.tolist())\n",
    "df = df.drop(df.sort_values(by='price', ascending=False).head(1000).index.values.tolist())\n",
    "\n",
    "df = df.drop(df.sort_values(by='Потолки', ascending=False).head(10).index.values.tolist())\n",
    "\n",
    "df = df.drop(df.sort_values(by='Общая площадь, м²', ascending=True).head(160).index.values.tolist())\n",
    "df = df.drop(df.sort_values(by='Общая площадь, м²', ascending=False).head(40).index.values.tolist())\n",
    "\n",
    "df = df.drop(df[df['статус']== 0].index.values.tolist())\n",
    "df = df.drop(df[df['статус']== -1].index.values.tolist())\n",
    "\n",
    "df = df.drop(['решетки на окнах', 'Год постройки (сдачи в эксплуатацию)','region', 'nan', 'В залоге', 'Кол-во телефонных линий', 'через TV кабель', 'ADSL', 'проводной', 'регион', 'статус'], axis=1)\n",
    "df = df.astype(float)\n",
    "\n",
    "df['price'] = np.log1p(df['price'])\n",
    "df = df.reset_index(drop=True)\n",
    "\n",
    "X = df.drop(['price'], axis=1)\n",
    "y = df['price']\n",
    "\n",
    "Scaler = StandardScaler()\n",
    "mse = MeanSquaredError()\n",
    "mae = MeanAbsoluteError()\n",
    "\n",
    "X.loc[-1] = [214., 1., 1., 2., 2.7, 0., 0., 0. , 0. ,0. , 1.]\n",
    "\n",
    "X = Scaler.fit_transform(X)"
   ]
  },
  {
   "cell_type": "code",
   "execution_count": 18,
   "id": "b4af3610",
   "metadata": {},
   "outputs": [
    {
     "data": {
      "text/plain": [
       "(11,)"
      ]
     },
     "execution_count": 18,
     "metadata": {},
     "output_type": "execute_result"
    }
   ],
   "source": [
    "X[-1].shape"
   ]
  },
  {
   "cell_type": "code",
   "execution_count": null,
   "id": "e1de2848",
   "metadata": {},
   "outputs": [],
   "source": [
    "df = pd.read_excel('dataset/cleaned_data/cleaned_building_v2.xlsx')"
   ]
  },
  {
   "cell_type": "code",
   "execution_count": null,
   "id": "59d52bf3",
   "metadata": {},
   "outputs": [],
   "source": [
    "df = df.drop(df.sort_values(by='price', ascending=True).head(200).index.values.tolist())\n",
    "df = df.drop(df.sort_values(by='price', ascending=False).head(1000).index.values.tolist())\n",
    "\n",
    "df = df.drop(df.sort_values(by='Потолки', ascending=False).head(10).index.values.tolist())\n",
    "\n",
    "df = df.drop(df.sort_values(by='Общая площадь, м²', ascending=True).head(160).index.values.tolist())\n",
    "df = df.drop(df.sort_values(by='Общая площадь, м²', ascending=False).head(40).index.values.tolist())"
   ]
  },
  {
   "cell_type": "code",
   "execution_count": null,
   "id": "1ee3810d",
   "metadata": {},
   "outputs": [],
   "source": [
    "df = df.drop(df[df['статус']== 0].index.values.tolist())\n",
    "df = df.drop(df[df['статус']== -1].index.values.tolist())"
   ]
  },
  {
   "cell_type": "code",
   "execution_count": null,
   "id": "8d3ff917",
   "metadata": {},
   "outputs": [],
   "source": [
    "df = df.drop(['решетки на окнах', 'Год постройки (сдачи в эксплуатацию)','region', 'nan', 'В залоге', 'Кол-во телефонных линий', 'через TV кабель', 'ADSL', 'проводной', 'регион', 'статус'], axis=1)\n",
    "df = df.astype(float)"
   ]
  },
  {
   "cell_type": "code",
   "execution_count": null,
   "id": "30a685c6",
   "metadata": {},
   "outputs": [],
   "source": [
    "df['price'] = np.log1p(df['price'])\n",
    "df = df.reset_index(drop=True)\n",
    "df"
   ]
  },
  {
   "cell_type": "code",
   "execution_count": null,
   "id": "36f0673e",
   "metadata": {},
   "outputs": [],
   "source": [
    "X = df.drop(['price'], axis=1)\n",
    "y = df['price']"
   ]
  },
  {
   "cell_type": "code",
   "execution_count": null,
   "id": "f48cd8f4",
   "metadata": {},
   "outputs": [],
   "source": [
    "Scaler = StandardScaler()\n",
    "mse = MeanSquaredError()\n",
    "mae = MeanAbsoluteError()"
   ]
  },
  {
   "cell_type": "code",
   "execution_count": null,
   "id": "fbadf617",
   "metadata": {},
   "outputs": [],
   "source": [
    "X = Scaler.fit_transform(X)"
   ]
  },
  {
   "cell_type": "code",
   "execution_count": null,
   "id": "52d8ee38",
   "metadata": {},
   "outputs": [],
   "source": [
    "X_train, _1 , y_train, _2 = train_test_split(X,y, test_size=0.1)\n",
    "X_test, X_val, y_test, y_val = train_test_split(_1, _2, test_size=0.5)\n",
    "\n",
    "print(X_train.shape, X_val.shape, X_test.shape)"
   ]
  },
  {
   "cell_type": "code",
   "execution_count": null,
   "id": "70a004ec",
   "metadata": {},
   "outputs": [],
   "source": [
    "callback_patience = tf.keras.callbacks.EarlyStopping(monitor='loss', patience=5)"
   ]
  },
  {
   "cell_type": "code",
   "execution_count": null,
   "id": "44d9e79d",
   "metadata": {},
   "outputs": [],
   "source": [
    "class myModel(tf.keras.Model):\n",
    "    def __init__(self, units=32, activation='relu', **kwargs):\n",
    "        super(myModel, self).__init__(**kwargs)\n",
    "        \n",
    "        self.hidden1 = Dense(units, activation=activation)\n",
    "        self.hidden2 = Dense(units, activation=activation)\n",
    "        \n",
    "        self.hidden3 = Dense(units, activation=activation)\n",
    "        self.hidden4 = Dense(units, activation=activation)\n",
    "        \n",
    "        self.hidden5 = Dense(units, activation=activation)\n",
    "        self.hidden6 = Dense(units, activation=activation)\n",
    "        \n",
    "        self.hidden7 = Dense(units, activation=activation)\n",
    "        self.hidden8 = Dense(units * 2, activation=activation)\n",
    "        \n",
    "        self.batch_normalization = tf.keras.layers.BatchNormalization()\n",
    "        self.dropout = tf.keras.layers.Dropout(0.1)\n",
    "        self.add = tf.keras.layers.Add()\n",
    "        self.multiply = tf.keras.layers.Multiply()\n",
    "    \n",
    "        self.main_output = Dense(1)\n",
    "        \n",
    "    def call(self, inputs):\n",
    "        \n",
    "        x_1 = self.hidden1(inputs)\n",
    "        x = self.hidden2(x_1)\n",
    "        \n",
    "        x = self.dropout(x)\n",
    "        \n",
    "        x = self.add([x, x_1])\n",
    "        \n",
    "        x =  self.multiply([x, x])\n",
    "        \n",
    "        x = self.hidden3(x)\n",
    "        x = self.hidden4(x)\n",
    "        \n",
    "        x_5 = self.hidden5(x)\n",
    "        x = self.hidden6(x_5)\n",
    "        \n",
    "        x = self.batch_normalization(x)\n",
    "        x = self.dropout(x)\n",
    "        \n",
    "        x = self.add([x, x_5])\n",
    "        \n",
    "        x =  self.multiply([x, x])\n",
    "        \n",
    "        x = self.hidden7(x)\n",
    "        x = self.hidden8(x)\n",
    "        \n",
    "        main_output = self.main_output(x)\n",
    "        return main_output\n"
   ]
  },
  {
   "cell_type": "code",
   "execution_count": null,
   "id": "72f906f7",
   "metadata": {},
   "outputs": [],
   "source": [
    "tf.random.set_seed(42)\n",
    "np.random.seed(42)"
   ]
  },
  {
   "cell_type": "code",
   "execution_count": null,
   "id": "9f364952",
   "metadata": {},
   "outputs": [],
   "source": [
    "model = myModel()"
   ]
  },
  {
   "cell_type": "code",
   "execution_count": null,
   "id": "0658fcd1",
   "metadata": {},
   "outputs": [],
   "source": [
    "model.compile(optimizer=tf.keras.optimizers.RMSprop(), loss='mae')\n",
    "\n",
    "history = model.fit(\n",
    "                    X_train, y_train, epochs=300, batch_size=16,\n",
    "                    callbacks = [callback_patience], \n",
    "                    validation_data=(X_val, y_val)\n",
    "                   )"
   ]
  },
  {
   "cell_type": "code",
   "execution_count": null,
   "id": "e5d3e5b8",
   "metadata": {},
   "outputs": [],
   "source": [
    "model.evaluate(X_test, y_test)"
   ]
  },
  {
   "cell_type": "code",
   "execution_count": null,
   "id": "5e3d79c5",
   "metadata": {},
   "outputs": [],
   "source": [
    "model.evaluate(X_train, y_train)"
   ]
  },
  {
   "cell_type": "code",
   "execution_count": null,
   "id": "843be049",
   "metadata": {},
   "outputs": [],
   "source": [
    "y_pred_train = model.predict(X_train)\n",
    "# y_pred_train = y_pred_train - (y_pred_train % 100000)\n",
    "\n",
    "y_pred_test = model.predict(X_test)\n",
    "# y_pred_test = y_pred_test - (y_pred_test % 100000)\n",
    "\n",
    "print(f\"Mean Squared Error - train: {tf.math.sqrt(mse(y_train, y_pred_train))}\")\n",
    "print(f\"Mean Squared Error - test: {tf.math.sqrt(mse(y_test, y_pred_test))}\\n\")\n",
    "\n",
    "print(f\"Mean Absolute Error - train: {mae(y_test, y_pred_test)}\")\n",
    "print(f\"Mean Absolute Error - test: {mae(y_train, y_pred_train)}\\n\")\n",
    "\n",
    "print(f\"Mean Absolute Error - test: {mae(tf.math.exp(y_test), tf.math.exp(y_pred_test))}\")\n",
    "print(f\"Mean Absolute Error - train: {mae(tf.math.exp(y_train), tf.math.exp(y_pred_train))}\")"
   ]
  },
  {
   "cell_type": "code",
   "execution_count": null,
   "id": "12f47291",
   "metadata": {},
   "outputs": [],
   "source": [
    "print(f\"Mean Absolute Error - test: {mae(tf.math.exp(y_test), tf.math.exp(y_pred_test))}\")\n",
    "print(f\"Mean Absolute Error - train: {mae(tf.math.exp(y_train), tf.math.exp(y_pred_train))}\")"
   ]
  },
  {
   "cell_type": "code",
   "execution_count": null,
   "id": "100892f9",
   "metadata": {},
   "outputs": [],
   "source": [
    "history_df = pd.DataFrame(history.history)\n",
    "history_df.plot(figsize=(5,5))\n",
    "plt.xlabel('epochs')\n",
    "plt.ylabel('loss')\n",
    "plt.legend()"
   ]
  },
  {
   "cell_type": "code",
   "execution_count": null,
   "id": "4287f449",
   "metadata": {},
   "outputs": [],
   "source": [
    "# plt.figure(figsize=(7,4))\n",
    "plt.scatter(df['Общая площадь, м²'], y, c='b', label='trainin_data')\n",
    "plt.scatter(df['Общая площадь, м²'], model.predict(X), c='r', label='predicted_data')\n",
    "plt.legend()"
   ]
  },
  {
   "cell_type": "code",
   "execution_count": null,
   "id": "4105955f",
   "metadata": {},
   "outputs": [],
   "source": [
    "y_pred = model.predict(X)\n",
    "y_pred = tf.math.exp(y_pred)\n",
    "\n",
    "y_true = tf.math.exp(y)\n",
    "\n",
    "mae(y_true, y_pred)"
   ]
  },
  {
   "cell_type": "code",
   "execution_count": null,
   "id": "94c33d1b",
   "metadata": {},
   "outputs": [],
   "source": [
    "model.predict(np.expand_dims(X_train[0], 0)), y_train[0]"
   ]
  },
  {
   "cell_type": "code",
   "execution_count": null,
   "id": "75981ade",
   "metadata": {},
   "outputs": [],
   "source": [
    "model.save(r'C:\\Users\\karib\\Desktop\\diploma\\models\\model_v2')"
   ]
  },
  {
   "cell_type": "code",
   "execution_count": null,
   "id": "b1a74108",
   "metadata": {},
   "outputs": [],
   "source": [
    "import tensorflow as tf"
   ]
  },
  {
   "cell_type": "code",
   "execution_count": null,
   "id": "23463e19",
   "metadata": {},
   "outputs": [],
   "source": [
    "nn = tf.keras.models.load_model(r'C:\\Users\\karib\\Desktop\\diploma\\models\\model_v2')"
   ]
  },
  {
   "cell_type": "code",
   "execution_count": null,
   "id": "65648986",
   "metadata": {},
   "outputs": [],
   "source": [
    "nn.predict(np.expand_dims(X_train[0], 0)), y_train[0]"
   ]
  },
  {
   "cell_type": "code",
   "execution_count": null,
   "id": "ffc4ad7e",
   "metadata": {},
   "outputs": [],
   "source": [
    "np.expand_dims(X_train[0], 0).shape"
   ]
  },
  {
   "cell_type": "code",
   "execution_count": null,
   "id": "a0357421",
   "metadata": {},
   "outputs": [],
   "source": [
    "X_train[0]"
   ]
  },
  {
   "cell_type": "code",
   "execution_count": null,
   "id": "45955650",
   "metadata": {},
   "outputs": [],
   "source": [
    "a = np.array([-0.55226414, -0.00756485,  0.06108979,  0.71995724, -1.09164684,\n",
    "0.74222731, -0.75557363, -0.57774504, -0.83818919, -0.8229088 ,\n",
    "       -0.29829498])"
   ]
  },
  {
   "cell_type": "code",
   "execution_count": null,
   "id": "8d4f8c47",
   "metadata": {},
   "outputs": [],
   "source": [
    "x"
   ]
  },
  {
   "cell_type": "code",
   "execution_count": null,
   "id": "e707d349",
   "metadata": {},
   "outputs": [],
   "source": [
    "np.expand_dims(a, 0)"
   ]
  },
  {
   "cell_type": "code",
   "execution_count": null,
   "id": "23254a4a",
   "metadata": {},
   "outputs": [],
   "source": [
    "np.array([1,1,1,1,1,1,1,1,1,1,1]).shape"
   ]
  },
  {
   "cell_type": "code",
   "execution_count": null,
   "id": "eb28a288",
   "metadata": {},
   "outputs": [],
   "source": [
    "np.array(df.loc[0])"
   ]
  },
  {
   "cell_type": "code",
   "execution_count": null,
   "id": "712822fd",
   "metadata": {},
   "outputs": [],
   "source": [
    "a = np.array([214., 1., 1., 2., 2.7, 0., 0., 0. , 0. ,0. , 1.])"
   ]
  },
  {
   "cell_type": "code",
   "execution_count": null,
   "id": "63ceaf50",
   "metadata": {},
   "outputs": [],
   "source": [
    "np.expand_dims(a, 1).shape"
   ]
  },
  {
   "cell_type": "code",
   "execution_count": null,
   "id": "a1399227",
   "metadata": {},
   "outputs": [],
   "source": [
    "XX = df.drop(['price'], axis=1)"
   ]
  },
  {
   "cell_type": "code",
   "execution_count": null,
   "id": "72e393e6",
   "metadata": {},
   "outputs": [],
   "source": [
    "Scaler.fit_transform(XX.loc[0].values.reshape(-1,1))"
   ]
  },
  {
   "cell_type": "code",
   "execution_count": null,
   "id": "4256fdc0",
   "metadata": {},
   "outputs": [],
   "source": [
    "Scaler.fit_transform(XX.loc[:4])"
   ]
  },
  {
   "cell_type": "code",
   "execution_count": null,
   "id": "6e4eb266",
   "metadata": {},
   "outputs": [],
   "source": [
    "Scaler.fit_transform(np.expand_dims(a, 1))"
   ]
  },
  {
   "cell_type": "code",
   "execution_count": 19,
   "id": "76b2c910",
   "metadata": {},
   "outputs": [
    {
     "data": {
      "text/plain": [
       "Общая площадь, м²        214.000000\n",
       "Количество уровней         1.000000\n",
       "Тип строения               1.000000\n",
       "Состояние                  2.000000\n",
       "Потолки                    2.700000\n",
       "price                     19.519293\n",
       "Парковка                   0.000000\n",
       "пожарная сигнализация      0.000000\n",
       "круглосуточная охрана      0.000000\n",
       "видеонаблюдение            0.000000\n",
       "сигнализация               0.000000\n",
       "оптика                     1.000000\n",
       "Name: 0, dtype: float64"
      ]
     },
     "execution_count": 19,
     "metadata": {},
     "output_type": "execute_result"
    }
   ],
   "source": [
    "df.loc[0]"
   ]
  },
  {
   "cell_type": "code",
   "execution_count": 20,
   "id": "357e36e2",
   "metadata": {},
   "outputs": [
    {
     "data": {
      "text/plain": [
       "array([-0.87847107, -1.20229431,  0.06107931, -0.19441336, -1.09123809,\n",
       "       -1.34664826, -0.75537082, -0.57761336, -0.83794535, -0.82267298,\n",
       "        3.34539484])"
      ]
     },
     "execution_count": 20,
     "metadata": {},
     "output_type": "execute_result"
    }
   ],
   "source": [
    "X[0]"
   ]
  }
 ],
 "metadata": {
  "kernelspec": {
   "display_name": "Python [conda env:tf] *",
   "language": "python",
   "name": "conda-env-tf-py"
  },
  "language_info": {
   "codemirror_mode": {
    "name": "ipython",
    "version": 3
   },
   "file_extension": ".py",
   "mimetype": "text/x-python",
   "name": "python",
   "nbconvert_exporter": "python",
   "pygments_lexer": "ipython3",
   "version": "3.8.16"
  }
 },
 "nbformat": 4,
 "nbformat_minor": 5
}
