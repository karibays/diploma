{
 "cells": [
  {
   "cell_type": "code",
   "execution_count": 3,
   "id": "05f82e5e",
   "metadata": {},
   "outputs": [],
   "source": [
    "import pandas as pd\n",
    "import numpy as np\n",
    "from sklearn.preprocessing import StandardScaler"
   ]
  },
  {
   "cell_type": "code",
   "execution_count": 4,
   "id": "7f22294e",
   "metadata": {},
   "outputs": [
    {
     "name": "stdout",
     "output_type": "stream",
     "text": [
      "means: [6.68881644e+02 2.00632919e+00 9.23076923e-01 2.42529915e+00\n",
      " 3.46861487e+00 6.44786325e-01 3.63418803e-01 2.50256410e-01\n",
      " 4.12649573e-01 4.03760684e-01 8.17094017e-02]\n",
      " vars: [2.67965479e+05 6.99995786e-01 1.58553583e+00 4.78390696e+00\n",
      " 4.95739172e-01 2.29036920e-01 2.31345577e-01 1.87628139e-01\n",
      " 2.42369903e-01 2.40737994e-01 7.50329754e-02]\n"
     ]
    }
   ],
   "source": [
    "df = pd.read_excel('dataset/cleaned_data/cleaned_building_v2.xlsx')\n",
    "\n",
    "df = df.drop(df.sort_values(by='price', ascending=True).head(200).index.values.tolist())\n",
    "df = df.drop(df.sort_values(by='price', ascending=False).head(1000).index.values.tolist())\n",
    "\n",
    "df = df.drop(df.sort_values(by='Потолки', ascending=False).head(10).index.values.tolist())\n",
    "\n",
    "df = df.drop(df.sort_values(by='Общая площадь, м²', ascending=True).head(160).index.values.tolist())\n",
    "df = df.drop(df.sort_values(by='Общая площадь, м²', ascending=False).head(40).index.values.tolist())\n",
    "\n",
    "df = df.drop(df[df['статус']== 0].index.values.tolist())\n",
    "df = df.drop(df[df['статус']== -1].index.values.tolist())\n",
    "\n",
    "df = df.drop(['решетки на окнах', 'Год постройки (сдачи в эксплуатацию)','region', 'nan', 'В залоге', 'Кол-во телефонных линий', 'через TV кабель', 'ADSL', 'проводной', 'регион', 'статус'], axis=1)\n",
    "df = df.astype(float)\n",
    "\n",
    "df['price'] = np.log1p(df['price'])\n",
    "df = df.reset_index(drop=True)\n",
    "\n",
    "X = df.drop(['price'], axis=1)\n",
    "y = df['price']\n",
    "\n",
    "Scaler = StandardScaler()\n",
    "\n",
    "\n",
    "X = Scaler.fit_transform(X)\n",
    "\n",
    "means = Scaler.mean_ \n",
    "vars = Scaler.var_   \n",
    "print(f\"means: {means}\\n vars: {vars}\")\n"
   ]
  },
  {
   "cell_type": "code",
   "execution_count": 5,
   "id": "cd84fa74",
   "metadata": {},
   "outputs": [],
   "source": [
    "data = [180.0, 1.0, 1.0, 1.0, 1.0, 1.0, 1.0, 1.0, 1.0, 1.0, 1.0]"
   ]
  },
  {
   "cell_type": "code",
   "execution_count": 6,
   "id": "70a4d286",
   "metadata": {},
   "outputs": [
    {
     "data": {
      "text/plain": [
       "[180.0, 1.0, 1.0, 1.0, 1.0, 1.0, 1.0, 1.0, 1.0, 1.0, 1.0]"
      ]
     },
     "execution_count": 6,
     "metadata": {},
     "output_type": "execute_result"
    }
   ],
   "source": [
    "data"
   ]
  },
  {
   "cell_type": "code",
   "execution_count": 12,
   "id": "70c0a74d",
   "metadata": {},
   "outputs": [
    {
     "data": {
      "text/plain": [
       "numpy.ndarray"
      ]
     },
     "execution_count": 12,
     "metadata": {},
     "output_type": "execute_result"
    }
   ],
   "source": [
    "type(means)"
   ]
  },
  {
   "cell_type": "code",
   "execution_count": 10,
   "id": "ef548731",
   "metadata": {},
   "outputs": [
    {
     "data": {
      "text/plain": [
       "array([-0.94441811, -1.20279706,  0.06108979, -0.65165039, -3.50611956,\n",
       "        0.74222731,  1.32349775,  1.73086731,  1.19304808,  1.21520148,\n",
       "        3.35238627])"
      ]
     },
     "execution_count": 10,
     "metadata": {},
     "output_type": "execute_result"
    }
   ],
   "source": []
  }
 ],
 "metadata": {
  "kernelspec": {
   "display_name": "Python 3 (ipykernel)",
   "language": "python",
   "name": "python3"
  },
  "language_info": {
   "codemirror_mode": {
    "name": "ipython",
    "version": 3
   },
   "file_extension": ".py",
   "mimetype": "text/x-python",
   "name": "python",
   "nbconvert_exporter": "python",
   "pygments_lexer": "ipython3",
   "version": "3.10.9"
  }
 },
 "nbformat": 4,
 "nbformat_minor": 5
}
